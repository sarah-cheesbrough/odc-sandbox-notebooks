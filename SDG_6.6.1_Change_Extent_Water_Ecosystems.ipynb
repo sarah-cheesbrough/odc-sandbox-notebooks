{
 "cells": [
  {
   "cell_type": "markdown",
   "metadata": {},
   "source": [
    "\n",
    "# UN SDG Indicator 6.6.1:<br> Change in the Extent of Water-related Ecosystems\n",
    "\n",
    "\n",
    "\n",
    "\n",
    "# Notebook Summary\n",
    "The United Nations have prescribed 17 \"Sustainable Development Goals\" (SDGs). This notebook attempts to monitor SDG Indicator 6.6.1 - change in the extent of water-related ecosystems. Indicator 6.6.1 has 4 sub-indicators:\n",
    ">    i. The spatial extent of water-related ecosystems <br>\n",
    ">    ii. The quantity of water contained within these ecosystems <br>\n",
    ">    iii. The quality of water within these ecosystems <br>\n",
    ">    iv. The health or state of these ecosystems <br>\n",
    "\n",
    "This notebook primarily focuses on the first sub-indicator - spatial extents.\n",
    "\n",
    "We're utilising Landsat 8 on AWS data https://docs.opendata.aws/landsat-pds/readme.html, and have indexed into an instance of the ODC, for more information about ODC please visit our landing page [Landing Page](Landing_Page.ipynb).\n",
    "\n",
    "In summary you'll be able to select any case study area in the world, (making sure it's not too big for now), once a case study area is selected you can use a selection of our apps to explore the change in water extent.\n",
    "\n",
    "Our water apps have two water detection algorithms, WOFS and NWDI, after preliminary testing we found the AWS Landsat 8 product is too low level for scientific algorithms such as WOFS so recommend using NDWI for this dataset.\n",
    "\n",
    "### water_stackplot_aws_landsat8\n",
    "\n",
    "The app summerises water extent change in terms of area m^2 on a stack plot, a user draws a polygon all pixels within the polygon are classified as wet, dry or not enough data for each snap shot in time. User's can also export out the data in the form of a excel document or use the user interface to explore other areas in order to benchmark different polygons. \n",
    "\n",
    "### water_max_min_aws_landsat8\n",
    "\n",
    "The app summerises water extent change in terms of a visual assessment between maximum and minimum water extent, a user draws a polygon all pixels within the polygon are classified as wet, dry or not enough data for each snap shot in time. \n",
    "\n",
    "Using these two tools, we can explore the water bodies around the world to understand the current trend of water resources.\n"
   ]
  },
  {
   "cell_type": "code",
   "execution_count": null,
   "metadata": {},
   "outputs": [],
   "source": [
    "%store -r"
   ]
  },
  {
   "cell_type": "code",
   "execution_count": null,
   "metadata": {},
   "outputs": [],
   "source": [
    "select_case_study_area"
   ]
  },
  {
   "cell_type": "code",
   "execution_count": null,
   "metadata": {},
   "outputs": [],
   "source": [
    "water_stackplot_aws_landsat8"
   ]
  },
  {
   "cell_type": "code",
   "execution_count": null,
   "metadata": {},
   "outputs": [],
   "source": [
    "water_max_min_aws_landsat8"
   ]
  }
 ],
 "metadata": {
  "kernelspec": {
   "display_name": "Python 3",
   "language": "python",
   "name": "python3"
  },
  "language_info": {
   "codemirror_mode": {
    "name": "ipython",
    "version": 3
   },
   "file_extension": ".py",
   "mimetype": "text/x-python",
   "name": "python",
   "nbconvert_exporter": "python",
   "pygments_lexer": "ipython3",
   "version": "3.7.3"
  }
 },
 "nbformat": 4,
 "nbformat_minor": 2
}
