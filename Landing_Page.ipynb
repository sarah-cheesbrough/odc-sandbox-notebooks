{
 "cells": [
  {
   "cell_type": "markdown",
   "metadata": {},
   "source": [
    "## The Open Data Cube Sandbox\n",
    "Welcome to the Open Data Cube (ODC) Sandbox. Here you can access an instance of the ODC that has data indexed and ready to go. This sandbox utilises data products available on AWS' Landsat public dataset bucket on S3 (see: https://docs.opendata.aws/landsat-pds/readme.html). \n",
    "\n",
    "#### What is the ODC?\n",
    "The ODC provides an integrated gridded data analysis environment capable of delivering decades of analysis ready earth observation satellite and related data from multiple satellite and other acquisition systems.\n",
    "\n",
    "The ODC initiative seeks to increase the value and impact of global Earth obervation satellite data by providing an open and freely accessible exploitation archectecture and to foster a community to develop, sustain, and grow the techonology and the breadth and depth of its application. To read more see the ODC Initiative Whitepaper\n",
    "\n",
    "The ODC manual can be found at http://datacube-core.readthedocs.io/en/latest/.\n",
    "\n",
    "#### What type of an ODC user are you?\n",
    "We've designed this space to tailor for specific users by organising our notebooks according to you, each user has a table of contents that they can step through.\n",
    "\n",
    "#### Starting Out\n",
    "An introduction to the products indexed in this ODC instance sandbox, basic use and functionality. Requires reading abilities and basic python knowledge, ideal first time user or remote sensing scienctist looking for a refresher.\n",
    "\n",
    "1.1 Landsat 8 Product Page\n",
    "1.2 Landsat 7 Product Page\n",
    "1.3 Landsat 5 Product Page\n",
    "1.4 Sentinel 1 Product Page\n",
    "1.5 Sentinel 2 Product Page\n",
    "1.6 ODC Functionality\n",
    "1.7 ODC Meta-Data\n",
    "Data Exploration-\n",
    "A commandline with user interfaces, in this space you\n",
    "\n",
    "2.1 Notebook Commandline Apps\n",
    "2.2 Band Indices App.\n",
    "2.3 Water Detection Plot App.\n",
    "2.4 Water detection extent.\n",
    "2.5 View data App\n",
    "Remote Sensing Scientist (Algorithm Library)\n",
    "3.1 Cloud Statistics\n",
    "3.2 Custom Mosiacs\n",
    "3.3 Land Change\n",
    "3.4 NDVI Phenology\n",
    "3.5 WOFS\n",
    "Infrastructure\n",
    "4.1 How to create a product definition\n",
    "4.2 NetCDF to dataset meta-data\n",
    "\n",
    "\n",
    "\n",
    "\n",
    "\n",
    "\n",
    "# The Open Data Cube Sandbox\n",
    "\n",
    "Welcome to the Open Data Cube (ODC) Sandbox. Here you can access an instance of the ODC that has data indexed and ready to go. This sandbox utilises data products available on AWS' Landsat public dataset bucket on S3 (see: https://docs.opendata.aws/landsat-pds/readme.html). \n",
    "\n",
    "#### Scenes indexed in yellow.\n",
    "<img src=\"images/indexed_areas.png\">\n",
    "\n",
    "\n",
    "Those who code in Python can use this space to explore using the ODC API to interact with indexed products and the potential of accessing earth observation data on demand.\n",
    "\n",
    "And for the novice users we've developed prototype apps that allow you to explore any location in thw world in a simple  graphical user interface that is using stored macro commands.\n",
    "\n",
    "#### ODC\n",
    "\n",
    "The [ODC](https://github.com/opendatacube) provides an integrated gridded data analysis environment capable of delivering decades of analysis ready earth observation satellite and related data from multiple satellite and other acquisition systems.\n",
    "\n",
    "The ODC initiative seeks to increase the value and impact of global Earth obervation satellite data by providing an open and freely accessible exploitation archectecture and to foster a community to develop, sustain, and grow the techonology and the breadth and depth of its application. To read more see the [ODC Initiative Whitepaper](https://github.com/opendatacube/documentation/blob/master/Roadmap/ODC%20White%20Paper.md)\n",
    "\n",
    "The ODC manual can be found at http://datacube-core.readthedocs.io/en/latest/.\n",
    "\n",
    "#### To use the notebook ->  Click your mouse onto the cell below, and push ctrl+enter, or click the run button from the toolbox above."
   ]
  },
  {
   "cell_type": "code",
   "execution_count": 1,
   "metadata": {},
   "outputs": [],
   "source": [
    "%store -r"
   ]
  },
  {
   "cell_type": "markdown",
   "metadata": {},
   "source": [
    "You have just installed our apps. In our app workflow, the first step is to select a case-study area. This app will compile a table of what data products are available over an area and for what timesteps.\n",
    "\n",
    "If you're familiar with Google Maps then this app will be easy to master, zoom in and out using the (+|-) buttons, once you've navigated to an area of interest.\n",
    "\n",
    "Please use the pan and zoom tools to find an area of interest and then select the rectangle draw tool from the toolbox panel and draw a rectangle over your desired case-study. You will then see a table of what products are available and for what dates.\n",
    "\n",
    "_Note that you should select a reasonably small area, otherwise it will take a long time to load._\n",
    "\n",
    "## Define an area of interest\n",
    "\n",
    "To define your area of interest in space and time, do the following:\n",
    "\n",
    "* Click your mouse the cell below, and push ctrl+enter, or click the run button from the toolbox above.\n",
    "* Pan and zoom until you have found an area of interest. Use the drawing tools on the left of the map to draw an outline of your area of interest\n",
    "* Click back on the first point of your area of interest to finish drawing\n",
    "* Select a date range for satellite data using the blue slider. This will determine how much data will be loaded for your case study."
   ]
  },
  {
   "cell_type": "code",
   "execution_count": 2,
   "metadata": {},
   "outputs": [
    {
     "ename": "NameError",
     "evalue": "name 'select_case_study_area' is not defined",
     "output_type": "error",
     "traceback": [
      "\u001b[0;31m---------------------------------------------------------------------------\u001b[0m",
      "\u001b[0;31mNameError\u001b[0m                                 Traceback (most recent call last)",
      "\u001b[0;32m<ipython-input-2-6bf64e35c5ad>\u001b[0m in \u001b[0;36m<module>\u001b[0;34m\u001b[0m\n\u001b[0;32m----> 1\u001b[0;31m \u001b[0mselect_case_study_area\u001b[0m\u001b[0;34m\u001b[0m\u001b[0;34m\u001b[0m\u001b[0m\n\u001b[0m",
      "\u001b[0;31mNameError\u001b[0m: name 'select_case_study_area' is not defined"
     ]
    }
   ],
   "source": [
    "select_case_study_area"
   ]
  },
  {
   "cell_type": "markdown",
   "metadata": {},
   "source": [
    "\n",
    "<style>\n",
    "  table {margin-left: 0 !important;}\n",
    "</style>\n",
    "You can use any of our apps to explore the area by just typing any of the paragraph heading in a juptyter notebook cell.\n",
    "\n",
    "|App|Description|Data Product|\n",
    "|----|:-----|----|\n",
    "|`band_indices_aws_landsat8`|Enables querying the aws landsat 8 product with points/polygons, and visualising responses as band indices derived on line graphs.|\n",
    "|`water_stackplot_aws_landsat8`|Enables querying the aws landsat 8 product with points/polygons and classifier landsat cells that water.  \n"
   ]
  },
  {
   "cell_type": "markdown",
   "metadata": {},
   "source": [
    "### Test out the apps with the following cells"
   ]
  },
  {
   "cell_type": "code",
   "execution_count": 3,
   "metadata": {
    "scrolled": false
   },
   "outputs": [
    {
     "ename": "NameError",
     "evalue": "name 'band_indices_aws_landsat8' is not defined",
     "output_type": "error",
     "traceback": [
      "\u001b[0;31m---------------------------------------------------------------------------\u001b[0m",
      "\u001b[0;31mNameError\u001b[0m                                 Traceback (most recent call last)",
      "\u001b[0;32m<ipython-input-3-d544d27f869d>\u001b[0m in \u001b[0;36m<module>\u001b[0;34m\u001b[0m\n\u001b[0;32m----> 1\u001b[0;31m \u001b[0mband_indices_aws_landsat8\u001b[0m\u001b[0;34m\u001b[0m\u001b[0;34m\u001b[0m\u001b[0m\n\u001b[0m",
      "\u001b[0;31mNameError\u001b[0m: name 'band_indices_aws_landsat8' is not defined"
     ]
    }
   ],
   "source": [
    "band_indices_aws_landsat8"
   ]
  },
  {
   "cell_type": "code",
   "execution_count": null,
   "metadata": {
    "scrolled": false
   },
   "outputs": [],
   "source": [
    "water_stackplot_aws_landsat8"
   ]
  },
  {
   "cell_type": "code",
   "execution_count": null,
   "metadata": {},
   "outputs": [],
   "source": [
    "water_max_min_aws_landsat8"
   ]
  }
 ],
 "metadata": {
  "kernelspec": {
   "display_name": "Python 3",
   "language": "python",
   "name": "python3"
  },
  "language_info": {
   "codemirror_mode": {
    "name": "ipython",
    "version": 3
   },
   "file_extension": ".py",
   "mimetype": "text/x-python",
   "name": "python",
   "nbconvert_exporter": "python",
   "pygments_lexer": "ipython3",
   "version": "3.7.3"
  }
 },
 "nbformat": 4,
 "nbformat_minor": 2
}
